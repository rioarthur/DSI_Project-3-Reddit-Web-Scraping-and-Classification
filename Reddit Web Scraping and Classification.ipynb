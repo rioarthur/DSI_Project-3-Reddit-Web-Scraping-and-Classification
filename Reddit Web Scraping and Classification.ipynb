{
 "cells": [
  {
   "cell_type": "markdown",
   "metadata": {},
   "source": [
    "**Web-Scraping For Our Data**\n",
    "\n",
    "We're going to utilize BeautifulSoup to scrape our data from Reddit's main home page."
   ]
  },
  {
   "cell_type": "code",
   "execution_count": null,
   "metadata": {
    "collapsed": true
   },
   "outputs": [],
   "source": [
    "import requests\n",
    "from bs4 import BeautifulSoup\n",
    "import pandas as pd\n",
    "import re\n",
    "\n",
    "reddit = pd.DataFrame(columns=['Title', 'Subreddit', 'Number of Comments', 'Time', 'Domain', 'Score'])\n",
    "end_page=''\n",
    "for x in range(5000):\n",
    "    try:\n",
    "        url = \"https://www.reddit.com/r/all/\"+end_page\n",
    "        response = requests.get(url, headers={'User-Agent': 'DontWorry'})\n",
    "        html = response.text\n",
    "        soup = BeautifulSoup(html, 'lxml')\n",
    "        titles = [title.text for title in soup.find_all('a', {'data-event-action': 'title'})]\n",
    "        subreddits = [sub.text for sub in soup.find_all('a', {'class': 'subreddit hover may-blank'})]\n",
    "        comments = [comment.text for comment in soup.find_all('a', {'class': 'bylink comments may-blank'})]\n",
    "        time = [time['title'] for time in soup.find_all('time')]  \n",
    "        domain = [domain.text for domain in soup.find_all('span', {'class': 'domain'})]\n",
    "        scores = [score.text for score in soup.find_all('div', {'class': 'score likes'})]\n",
    "        end_tags = soup.find_all('div', {'class':'reportform'})\n",
    "        last_tag=end_tags[24]['class'][1].split('-')[1]\n",
    "        end_page=\"?count=25&after=\"+last_tag                                \n",
    "        df = pd.DataFrame({'Title': titles, 'Subreddit': subreddits, 'Number of Comments': comments, 'Time': time, 'Domain': domain, 'Score': scores})\n",
    "        reddit = reddit.append(df)\n",
    "        reddit.to_csv('reddit_af.csv')\n",
    "    except:\n",
    "        pass"
   ]
  },
  {
   "cell_type": "code",
   "execution_count": null,
   "metadata": {
    "collapsed": true
   },
   "outputs": [],
   "source": [
    "reddit = pd.read_csv('reddit_af.csv')\n",
    "reddit"
   ]
  },
  {
   "cell_type": "markdown",
   "metadata": {},
   "source": [
    "**EDA**"
   ]
  },
  {
   "cell_type": "code",
   "execution_count": 151,
   "metadata": {
    "collapsed": true
   },
   "outputs": [],
   "source": [
    "import pandas as pd\n",
    "import numpy as np"
   ]
  },
  {
   "cell_type": "code",
   "execution_count": 152,
   "metadata": {
    "collapsed": true
   },
   "outputs": [],
   "source": [
    "df = pd.read_csv('/Users/m.arthurbentil/Documents/project-3/reddit_fa.csv')"
   ]
  },
  {
   "cell_type": "code",
   "execution_count": 153,
   "metadata": {},
   "outputs": [
    {
     "data": {
      "text/html": [
       "<div>\n",
       "<style>\n",
       "    .dataframe thead tr:only-child th {\n",
       "        text-align: right;\n",
       "    }\n",
       "\n",
       "    .dataframe thead th {\n",
       "        text-align: left;\n",
       "    }\n",
       "\n",
       "    .dataframe tbody tr th {\n",
       "        vertical-align: top;\n",
       "    }\n",
       "</style>\n",
       "<table border=\"1\" class=\"dataframe\">\n",
       "  <thead>\n",
       "    <tr style=\"text-align: right;\">\n",
       "      <th></th>\n",
       "      <th>Unnamed: 0</th>\n",
       "      <th>Domain</th>\n",
       "      <th>Number of Comments</th>\n",
       "      <th>Score</th>\n",
       "      <th>Subreddit</th>\n",
       "      <th>Time</th>\n",
       "      <th>Title</th>\n",
       "    </tr>\n",
       "  </thead>\n",
       "  <tbody>\n",
       "    <tr>\n",
       "      <th>0</th>\n",
       "      <td>0</td>\n",
       "      <td>(gfycat.com)</td>\n",
       "      <td>177 comments</td>\n",
       "      <td>5080</td>\n",
       "      <td>r/educationalgifs</td>\n",
       "      <td>Thu Feb 22 18:47:55 2018 UTC</td>\n",
       "      <td>how the Japanese \"roll their sleeves up\"</td>\n",
       "    </tr>\n",
       "    <tr>\n",
       "      <th>1</th>\n",
       "      <td>1</td>\n",
       "      <td>(i.redd.it)</td>\n",
       "      <td>47 comments</td>\n",
       "      <td>8821</td>\n",
       "      <td>r/tumblr</td>\n",
       "      <td>Thu Feb 22 16:49:02 2018 UTC</td>\n",
       "      <td>There are some universal truths which cannot b...</td>\n",
       "    </tr>\n",
       "    <tr>\n",
       "      <th>2</th>\n",
       "      <td>2</td>\n",
       "      <td>(i.redd.it)</td>\n",
       "      <td>547 comments</td>\n",
       "      <td>26.7k</td>\n",
       "      <td>r/ProgrammerHumor</td>\n",
       "      <td>Thu Feb 22 15:00:50 2018 UTC</td>\n",
       "      <td>FrontEnd VS BackEnd</td>\n",
       "    </tr>\n",
       "    <tr>\n",
       "      <th>3</th>\n",
       "      <td>3</td>\n",
       "      <td>(press.cc.com)</td>\n",
       "      <td>523 comments</td>\n",
       "      <td>14.7k</td>\n",
       "      <td>r/television</td>\n",
       "      <td>Thu Feb 22 16:01:27 2018 UTC</td>\n",
       "      <td>Comedy Central Renews \"Drunk History\" for a Si...</td>\n",
       "    </tr>\n",
       "    <tr>\n",
       "      <th>4</th>\n",
       "      <td>4</td>\n",
       "      <td>(i.redd.it)</td>\n",
       "      <td>905 comments</td>\n",
       "      <td>24.3k</td>\n",
       "      <td>r/facepalm</td>\n",
       "      <td>Thu Feb 22 15:42:38 2018 UTC</td>\n",
       "      <td>ironic.jpg</td>\n",
       "    </tr>\n",
       "  </tbody>\n",
       "</table>\n",
       "</div>"
      ],
      "text/plain": [
       "   Unnamed: 0          Domain Number of Comments  Score          Subreddit  \\\n",
       "0           0    (gfycat.com)       177 comments   5080  r/educationalgifs   \n",
       "1           1     (i.redd.it)        47 comments   8821           r/tumblr   \n",
       "2           2     (i.redd.it)       547 comments  26.7k  r/ProgrammerHumor   \n",
       "3           3  (press.cc.com)       523 comments  14.7k       r/television   \n",
       "4           4     (i.redd.it)       905 comments  24.3k         r/facepalm   \n",
       "\n",
       "                           Time  \\\n",
       "0  Thu Feb 22 18:47:55 2018 UTC   \n",
       "1  Thu Feb 22 16:49:02 2018 UTC   \n",
       "2  Thu Feb 22 15:00:50 2018 UTC   \n",
       "3  Thu Feb 22 16:01:27 2018 UTC   \n",
       "4  Thu Feb 22 15:42:38 2018 UTC   \n",
       "\n",
       "                                               Title  \n",
       "0           how the Japanese \"roll their sleeves up\"  \n",
       "1  There are some universal truths which cannot b...  \n",
       "2                                FrontEnd VS BackEnd  \n",
       "3  Comedy Central Renews \"Drunk History\" for a Si...  \n",
       "4                                         ironic.jpg  "
      ]
     },
     "execution_count": 153,
     "metadata": {},
     "output_type": "execute_result"
    }
   ],
   "source": [
    "df.head()"
   ]
  },
  {
   "cell_type": "code",
   "execution_count": 154,
   "metadata": {
    "collapsed": true,
    "scrolled": true
   },
   "outputs": [],
   "source": [
    "#remove/replace unnecessary string from the dataframe\n",
    "df['Domain'] = df['Domain'].map(lambda x: x.lstrip('(').rstrip(')')) #remove brackets\n",
    "df['Number of Comments'] = df['Number of Comments'].map(lambda x: x.rstrip(' comments')) #remove string ' comments'\n",
    "df['Score'] = df['Score'].str.replace('.', '') #replace the '.' with nothing\n",
    "df['Score'] = df['Score'].str.replace('k', '00')#replace the 'k' with '00'\n",
    "df['Score'] = df['Score'].str.replace('•', '0')# Replace the '.' with '0' (to deal with blank spaces)\n",
    "df['Time_Hour'] = df['Time'].str[11:13] #slice the time portion from the 'Time' column for just the hour (excluding minutes)\n",
    "df.drop(['Time', 'Unnamed: 0'], axis=1, inplace=True)\n",
    "\n"
   ]
  },
  {
   "cell_type": "code",
   "execution_count": 155,
   "metadata": {},
   "outputs": [
    {
     "data": {
      "text/plain": [
       "Domain                object\n",
       "Number of Comments    object\n",
       "Score                 object\n",
       "Subreddit             object\n",
       "Title                 object\n",
       "Time_Hour             object\n",
       "dtype: object"
      ]
     },
     "execution_count": 155,
     "metadata": {},
     "output_type": "execute_result"
    }
   ],
   "source": [
    "df.dtypes"
   ]
  },
  {
   "cell_type": "code",
   "execution_count": 156,
   "metadata": {
    "collapsed": true
   },
   "outputs": [],
   "source": [
    "df['Number of Comments'] = df['Number of Comments'].astype(int) # Change the 'Number of Comments' column to an integer type"
   ]
  },
  {
   "cell_type": "code",
   "execution_count": 157,
   "metadata": {
    "collapsed": true,
    "scrolled": true
   },
   "outputs": [],
   "source": [
    "df['Score'] = df['Score'].astype(int) # Change the 'Number of Comments' column to an integer type"
   ]
  },
  {
   "cell_type": "code",
   "execution_count": 158,
   "metadata": {
    "scrolled": true
   },
   "outputs": [
    {
     "data": {
      "text/plain": [
       "0     5080\n",
       "1     8821\n",
       "2    26700\n",
       "3    14700\n",
       "4    24300\n",
       "Name: Score, dtype: int64"
      ]
     },
     "execution_count": 158,
     "metadata": {},
     "output_type": "execute_result"
    }
   ],
   "source": [
    "df['Score'].head()"
   ]
  },
  {
   "cell_type": "code",
   "execution_count": 159,
   "metadata": {},
   "outputs": [
    {
     "data": {
      "text/plain": [
       "22.0"
      ]
     },
     "execution_count": 159,
     "metadata": {},
     "output_type": "execute_result"
    }
   ],
   "source": [
    "# Find the median for the number of comments. \n",
    "# Afterwards, we will create a binary variable for the comments column with variables as 'High' (above median) vs. 'Low' (below median).\n",
    "df['Number of Comments'].median()"
   ]
  },
  {
   "cell_type": "code",
   "execution_count": 160,
   "metadata": {
    "collapsed": true
   },
   "outputs": [],
   "source": [
    "# Create a new column for the binary variables of 'Number of Comments'\n",
    "df['Comments Magnitude'] = np.where(df['Number of Comments']>= 22, 'High', 'Low')"
   ]
  },
  {
   "cell_type": "code",
   "execution_count": 161,
   "metadata": {},
   "outputs": [
    {
     "data": {
      "text/plain": [
       "Index(['Domain', 'Number of Comments', 'Score', 'Subreddit', 'Title',\n",
       "       'Time_Hour', 'Comments Magnitude'],\n",
       "      dtype='object')"
      ]
     },
     "execution_count": 161,
     "metadata": {},
     "output_type": "execute_result"
    }
   ],
   "source": [
    "df.columns"
   ]
  },
  {
   "cell_type": "markdown",
   "metadata": {},
   "source": [
    "Since we have two variables we created ('High' and 'Low'), our baseline accuracy for the model is 50%."
   ]
  },
  {
   "cell_type": "code",
   "execution_count": 162,
   "metadata": {},
   "outputs": [
    {
     "data": {
      "text/html": [
       "<div>\n",
       "<style>\n",
       "    .dataframe thead tr:only-child th {\n",
       "        text-align: right;\n",
       "    }\n",
       "\n",
       "    .dataframe thead th {\n",
       "        text-align: left;\n",
       "    }\n",
       "\n",
       "    .dataframe tbody tr th {\n",
       "        vertical-align: top;\n",
       "    }\n",
       "</style>\n",
       "<table border=\"1\" class=\"dataframe\">\n",
       "  <thead>\n",
       "    <tr style=\"text-align: right;\">\n",
       "      <th></th>\n",
       "      <th>Domain</th>\n",
       "      <th>Number of Comments</th>\n",
       "      <th>Score</th>\n",
       "      <th>Subreddit</th>\n",
       "      <th>Title</th>\n",
       "      <th>Time_Hour</th>\n",
       "      <th>Comments Magnitude</th>\n",
       "    </tr>\n",
       "  </thead>\n",
       "  <tbody>\n",
       "    <tr>\n",
       "      <th>0</th>\n",
       "      <td>gfycat.com</td>\n",
       "      <td>177</td>\n",
       "      <td>5080</td>\n",
       "      <td>r/educationalgifs</td>\n",
       "      <td>how the Japanese \"roll their sleeves up\"</td>\n",
       "      <td>18</td>\n",
       "      <td>High</td>\n",
       "    </tr>\n",
       "    <tr>\n",
       "      <th>1</th>\n",
       "      <td>i.redd.it</td>\n",
       "      <td>47</td>\n",
       "      <td>8821</td>\n",
       "      <td>r/tumblr</td>\n",
       "      <td>There are some universal truths which cannot b...</td>\n",
       "      <td>16</td>\n",
       "      <td>High</td>\n",
       "    </tr>\n",
       "    <tr>\n",
       "      <th>2</th>\n",
       "      <td>i.redd.it</td>\n",
       "      <td>547</td>\n",
       "      <td>26700</td>\n",
       "      <td>r/ProgrammerHumor</td>\n",
       "      <td>FrontEnd VS BackEnd</td>\n",
       "      <td>15</td>\n",
       "      <td>High</td>\n",
       "    </tr>\n",
       "    <tr>\n",
       "      <th>3</th>\n",
       "      <td>press.cc.com</td>\n",
       "      <td>523</td>\n",
       "      <td>14700</td>\n",
       "      <td>r/television</td>\n",
       "      <td>Comedy Central Renews \"Drunk History\" for a Si...</td>\n",
       "      <td>16</td>\n",
       "      <td>High</td>\n",
       "    </tr>\n",
       "    <tr>\n",
       "      <th>4</th>\n",
       "      <td>i.redd.it</td>\n",
       "      <td>905</td>\n",
       "      <td>24300</td>\n",
       "      <td>r/facepalm</td>\n",
       "      <td>ironic.jpg</td>\n",
       "      <td>15</td>\n",
       "      <td>High</td>\n",
       "    </tr>\n",
       "  </tbody>\n",
       "</table>\n",
       "</div>"
      ],
      "text/plain": [
       "         Domain  Number of Comments  Score          Subreddit  \\\n",
       "0    gfycat.com                 177   5080  r/educationalgifs   \n",
       "1     i.redd.it                  47   8821           r/tumblr   \n",
       "2     i.redd.it                 547  26700  r/ProgrammerHumor   \n",
       "3  press.cc.com                 523  14700       r/television   \n",
       "4     i.redd.it                 905  24300         r/facepalm   \n",
       "\n",
       "                                               Title Time_Hour  \\\n",
       "0           how the Japanese \"roll their sleeves up\"        18   \n",
       "1  There are some universal truths which cannot b...        16   \n",
       "2                                FrontEnd VS BackEnd        15   \n",
       "3  Comedy Central Renews \"Drunk History\" for a Si...        16   \n",
       "4                                         ironic.jpg        15   \n",
       "\n",
       "  Comments Magnitude  \n",
       "0               High  \n",
       "1               High  \n",
       "2               High  \n",
       "3               High  \n",
       "4               High  "
      ]
     },
     "execution_count": 162,
     "metadata": {},
     "output_type": "execute_result"
    }
   ],
   "source": [
    "df.head()"
   ]
  },
  {
   "cell_type": "markdown",
   "metadata": {},
   "source": [
    "**Model 1: Random Forests**"
   ]
  },
  {
   "cell_type": "code",
   "execution_count": 163,
   "metadata": {
    "collapsed": true
   },
   "outputs": [],
   "source": [
    "# Now, we are going to create a Random Forest model to predict when comments are 'High' or 'Low' using only 'Subreddits' as a feature\n",
    "from sklearn.model_selection import cross_val_score, StratifiedKFold\n",
    "from sklearn.tree import DecisionTreeClassifier\n",
    "from sklearn.ensemble import RandomForestClassifier, ExtraTreesClassifier, BaggingClassifier\n",
    "from sklearn.preprocessing import LabelEncoder\n",
    "y = LabelEncoder().fit_transform(df['Comments Magnitude'])\n",
    "X = pd.get_dummies(df.drop(['Comments Magnitude', 'Domain', 'Time_Hour', 'Score', 'Title', 'Number of Comments'], axis=1))"
   ]
  },
  {
   "cell_type": "code",
   "execution_count": 164,
   "metadata": {
    "collapsed": true
   },
   "outputs": [],
   "source": [
    "cv = StratifiedKFold(n_splits=3, shuffle=True, random_state=41)"
   ]
  },
  {
   "cell_type": "code",
   "execution_count": 165,
   "metadata": {},
   "outputs": [
    {
     "name": "stdout",
     "output_type": "stream",
     "text": [
      "Random Forest Score:\t0.586 ± 0.014\n"
     ]
    }
   ],
   "source": [
    "dt = RandomForestClassifier()\n",
    "s = cross_val_score(dt, X, y, cv=cv, n_jobs=-1)\n",
    "print(\"{} Score:\\t{:0.3} ± {:0.3}\".format(\"Random Forest\", s.mean().round(3), s.std().round(3)))"
   ]
  },
  {
   "cell_type": "markdown",
   "metadata": {},
   "source": [
    "Our Random Forest score is 58.6%, which makes sense as we are using only one feature ('Subreddits'). Using one feature doesn't help to create a strong model. If we were to keep all the features except 'Comments Magnitude' in our code, we would get:"
   ]
  },
  {
   "cell_type": "code",
   "execution_count": 166,
   "metadata": {},
   "outputs": [
    {
     "name": "stdout",
     "output_type": "stream",
     "text": [
      "Random Forest Score:\t0.991 ± 0.006\n"
     ]
    }
   ],
   "source": [
    "from sklearn.model_selection import cross_val_score, StratifiedKFold\n",
    "from sklearn.tree import DecisionTreeClassifier\n",
    "from sklearn.ensemble import RandomForestClassifier, ExtraTreesClassifier, BaggingClassifier\n",
    "from sklearn.preprocessing import LabelEncoder\n",
    "y = LabelEncoder().fit_transform(df['Comments Magnitude'])\n",
    "X = pd.get_dummies(df.drop(['Comments Magnitude'], axis=1))\n",
    "cv = StratifiedKFold(n_splits=3, shuffle=True, random_state=41)\n",
    "dt = RandomForestClassifier()\n",
    "s = cross_val_score(dt, X, y, cv=cv, n_jobs=-1)\n",
    "print(\"{} Score:\\t{:0.3} ± {:0.3}\".format(\"Random Forest\", s.mean().round(3), s.std().round(3)))"
   ]
  },
  {
   "cell_type": "markdown",
   "metadata": {},
   "source": [
    "That's a high score! What if we exclude all variables except for one to see which one may have the biggest impact?"
   ]
  },
  {
   "cell_type": "code",
   "execution_count": 167,
   "metadata": {},
   "outputs": [
    {
     "name": "stdout",
     "output_type": "stream",
     "text": [
      "Random Forest Score:\t0.573 ± 0.023\n"
     ]
    }
   ],
   "source": [
    "# Random Forest Model with 'Domain'\n",
    "from sklearn.model_selection import cross_val_score, StratifiedKFold\n",
    "from sklearn.tree import DecisionTreeClassifier\n",
    "from sklearn.ensemble import RandomForestClassifier, ExtraTreesClassifier, BaggingClassifier\n",
    "from sklearn.preprocessing import LabelEncoder\n",
    "y = LabelEncoder().fit_transform(df['Comments Magnitude'])\n",
    "X = pd.get_dummies(df.drop(['Comments Magnitude', 'Time_Hour', 'Score', 'Title', 'Number of Comments', 'Subreddit'], axis=1))\n",
    "cv = StratifiedKFold(n_splits=3, shuffle=True, random_state=41)\n",
    "dt = RandomForestClassifier()\n",
    "s = cross_val_score(dt, X, y, cv=cv, n_jobs=-1)\n",
    "print(\"{} Score:\\t{:0.3} ± {:0.3}\".format(\"Random Forest\", s.mean().round(3), s.std().round(3)))"
   ]
  },
  {
   "cell_type": "code",
   "execution_count": 169,
   "metadata": {},
   "outputs": [
    {
     "name": "stdout",
     "output_type": "stream",
     "text": [
      "Random Forest Score:\t0.644 ± 0.007\n"
     ]
    }
   ],
   "source": [
    "# Random Forest Model with 'Time_Hour'\n",
    "from sklearn.model_selection import cross_val_score, StratifiedKFold\n",
    "from sklearn.tree import DecisionTreeClassifier\n",
    "from sklearn.ensemble import RandomForestClassifier, ExtraTreesClassifier, BaggingClassifier\n",
    "from sklearn.preprocessing import LabelEncoder\n",
    "y = LabelEncoder().fit_transform(df['Comments Magnitude'])\n",
    "X = pd.get_dummies(df.drop(['Comments Magnitude', 'Domain','Score', 'Title', 'Number of Comments', 'Subreddit'], axis=1))\n",
    "cv = StratifiedKFold(n_splits=3, shuffle=True, random_state=41)\n",
    "dt = RandomForestClassifier()\n",
    "s = cross_val_score(dt, X, y, cv=cv, n_jobs=-1)\n",
    "print(\"{} Score:\\t{:0.3} ± {:0.3}\".format(\"Random Forest\", s.mean().round(3), s.std().round(3)))"
   ]
  },
  {
   "cell_type": "code",
   "execution_count": 168,
   "metadata": {},
   "outputs": [
    {
     "name": "stdout",
     "output_type": "stream",
     "text": [
      "Random Forest Score:\t0.673 ± 0.006\n"
     ]
    }
   ],
   "source": [
    "# Random Forest Model with 'Score'\n",
    "from sklearn.model_selection import cross_val_score, StratifiedKFold\n",
    "from sklearn.tree import DecisionTreeClassifier\n",
    "from sklearn.ensemble import RandomForestClassifier, ExtraTreesClassifier, BaggingClassifier\n",
    "from sklearn.preprocessing import LabelEncoder\n",
    "y = LabelEncoder().fit_transform(df['Comments Magnitude'])\n",
    "X = pd.get_dummies(df.drop(['Comments Magnitude', 'Domain','Time_Hour', 'Title', 'Number of Comments', 'Subreddit'], axis=1))\n",
    "cv = StratifiedKFold(n_splits=3, shuffle=True, random_state=41)\n",
    "dt = RandomForestClassifier()\n",
    "s = cross_val_score(dt, X, y, cv=cv, n_jobs=-1)\n",
    "print(\"{} Score:\\t{:0.3} ± {:0.3}\".format(\"Random Forest\", s.mean().round(3), s.std().round(3)))"
   ]
  },
  {
   "cell_type": "markdown",
   "metadata": {},
   "source": [
    "Between the variables 'Score', 'Time_Hour', and 'Domain', it looks like 'Score' gives the better chance of accuracy with 67.3%."
   ]
  },
  {
   "cell_type": "markdown",
   "metadata": {},
   "source": [
    "Let's create some new features to explore our data further. I'm curious to see if some of the most popular Google Trends for the day I scraped data (February 21, 2018) corresponds with the Reddit titles. In recent news, two things that are getting a lot of press are gun control and the \"Black Panther\" movie. We will create variables for these two."
   ]
  },
  {
   "cell_type": "code",
   "execution_count": 170,
   "metadata": {
    "collapsed": true
   },
   "outputs": [],
   "source": [
    "df['Guns'] = np.where(df['Title'].str.contains('gun', case=False),'Yes', 'No' )"
   ]
  },
  {
   "cell_type": "code",
   "execution_count": 171,
   "metadata": {
    "collapsed": true
   },
   "outputs": [],
   "source": [
    "df['Black_P'] = np.where(df['Title'].str.contains('black panther', case=False), 'Yes', 'No')"
   ]
  },
  {
   "cell_type": "code",
   "execution_count": 172,
   "metadata": {
    "scrolled": true
   },
   "outputs": [
    {
     "data": {
      "text/html": [
       "<div>\n",
       "<style>\n",
       "    .dataframe thead tr:only-child th {\n",
       "        text-align: right;\n",
       "    }\n",
       "\n",
       "    .dataframe thead th {\n",
       "        text-align: left;\n",
       "    }\n",
       "\n",
       "    .dataframe tbody tr th {\n",
       "        vertical-align: top;\n",
       "    }\n",
       "</style>\n",
       "<table border=\"1\" class=\"dataframe\">\n",
       "  <thead>\n",
       "    <tr style=\"text-align: right;\">\n",
       "      <th></th>\n",
       "      <th>Domain</th>\n",
       "      <th>Number of Comments</th>\n",
       "      <th>Score</th>\n",
       "      <th>Subreddit</th>\n",
       "      <th>Title</th>\n",
       "      <th>Time_Hour</th>\n",
       "      <th>Comments Magnitude</th>\n",
       "      <th>Guns</th>\n",
       "      <th>Black_P</th>\n",
       "    </tr>\n",
       "  </thead>\n",
       "  <tbody>\n",
       "    <tr>\n",
       "      <th>0</th>\n",
       "      <td>gfycat.com</td>\n",
       "      <td>177</td>\n",
       "      <td>5080</td>\n",
       "      <td>r/educationalgifs</td>\n",
       "      <td>how the Japanese \"roll their sleeves up\"</td>\n",
       "      <td>18</td>\n",
       "      <td>High</td>\n",
       "      <td>No</td>\n",
       "      <td>No</td>\n",
       "    </tr>\n",
       "    <tr>\n",
       "      <th>1</th>\n",
       "      <td>i.redd.it</td>\n",
       "      <td>47</td>\n",
       "      <td>8821</td>\n",
       "      <td>r/tumblr</td>\n",
       "      <td>There are some universal truths which cannot b...</td>\n",
       "      <td>16</td>\n",
       "      <td>High</td>\n",
       "      <td>No</td>\n",
       "      <td>No</td>\n",
       "    </tr>\n",
       "    <tr>\n",
       "      <th>2</th>\n",
       "      <td>i.redd.it</td>\n",
       "      <td>547</td>\n",
       "      <td>26700</td>\n",
       "      <td>r/ProgrammerHumor</td>\n",
       "      <td>FrontEnd VS BackEnd</td>\n",
       "      <td>15</td>\n",
       "      <td>High</td>\n",
       "      <td>No</td>\n",
       "      <td>No</td>\n",
       "    </tr>\n",
       "    <tr>\n",
       "      <th>3</th>\n",
       "      <td>press.cc.com</td>\n",
       "      <td>523</td>\n",
       "      <td>14700</td>\n",
       "      <td>r/television</td>\n",
       "      <td>Comedy Central Renews \"Drunk History\" for a Si...</td>\n",
       "      <td>16</td>\n",
       "      <td>High</td>\n",
       "      <td>No</td>\n",
       "      <td>No</td>\n",
       "    </tr>\n",
       "    <tr>\n",
       "      <th>4</th>\n",
       "      <td>i.redd.it</td>\n",
       "      <td>905</td>\n",
       "      <td>24300</td>\n",
       "      <td>r/facepalm</td>\n",
       "      <td>ironic.jpg</td>\n",
       "      <td>15</td>\n",
       "      <td>High</td>\n",
       "      <td>No</td>\n",
       "      <td>No</td>\n",
       "    </tr>\n",
       "  </tbody>\n",
       "</table>\n",
       "</div>"
      ],
      "text/plain": [
       "         Domain  Number of Comments  Score          Subreddit  \\\n",
       "0    gfycat.com                 177   5080  r/educationalgifs   \n",
       "1     i.redd.it                  47   8821           r/tumblr   \n",
       "2     i.redd.it                 547  26700  r/ProgrammerHumor   \n",
       "3  press.cc.com                 523  14700       r/television   \n",
       "4     i.redd.it                 905  24300         r/facepalm   \n",
       "\n",
       "                                               Title Time_Hour  \\\n",
       "0           how the Japanese \"roll their sleeves up\"        18   \n",
       "1  There are some universal truths which cannot b...        16   \n",
       "2                                FrontEnd VS BackEnd        15   \n",
       "3  Comedy Central Renews \"Drunk History\" for a Si...        16   \n",
       "4                                         ironic.jpg        15   \n",
       "\n",
       "  Comments Magnitude Guns Black_P  \n",
       "0               High   No      No  \n",
       "1               High   No      No  \n",
       "2               High   No      No  \n",
       "3               High   No      No  \n",
       "4               High   No      No  "
      ]
     },
     "execution_count": 172,
     "metadata": {},
     "output_type": "execute_result"
    }
   ],
   "source": [
    "df.head()"
   ]
  },
  {
   "cell_type": "code",
   "execution_count": 173,
   "metadata": {},
   "outputs": [
    {
     "name": "stdout",
     "output_type": "stream",
     "text": [
      "Random Forest Score:\t0.505 ± 0.003\n"
     ]
    }
   ],
   "source": [
    "# Creating a Random Forest model using the two new variables in the model\n",
    "from sklearn.model_selection import cross_val_score, StratifiedKFold\n",
    "from sklearn.tree import DecisionTreeClassifier\n",
    "from sklearn.ensemble import RandomForestClassifier, ExtraTreesClassifier, BaggingClassifier\n",
    "from sklearn.preprocessing import LabelEncoder\n",
    "y = LabelEncoder().fit_transform(df['Comments Magnitude'])\n",
    "X = pd.get_dummies(df.drop(['Comments Magnitude', 'Score', 'Domain','Time_Hour', 'Title', 'Number of Comments', 'Subreddit'], axis=1))\n",
    "cv = StratifiedKFold(n_splits=3, shuffle=True, random_state=41)\n",
    "dt = RandomForestClassifier()\n",
    "s = cross_val_score(dt, X, y, cv=cv, n_jobs=-1)\n",
    "print(\"{} Score:\\t{:0.3} ± {:0.3}\".format(\"Random Forest\", s.mean().round(3), s.std().round(3)))"
   ]
  },
  {
   "cell_type": "code",
   "execution_count": 174,
   "metadata": {},
   "outputs": [
    {
     "name": "stdout",
     "output_type": "stream",
     "text": [
      "Random Forest Score:\t0.507 ± 0.0\n"
     ]
    }
   ],
   "source": [
    "#Creating a Random Forest model using 'Black Panther' variable\n",
    "from sklearn.model_selection import cross_val_score, StratifiedKFold\n",
    "from sklearn.tree import DecisionTreeClassifier\n",
    "from sklearn.ensemble import RandomForestClassifier, ExtraTreesClassifier, BaggingClassifier\n",
    "from sklearn.preprocessing import LabelEncoder\n",
    "y = LabelEncoder().fit_transform(df['Comments Magnitude'])\n",
    "X = pd.get_dummies(df.drop(['Comments Magnitude', 'Guns', 'Score', 'Domain','Time_Hour', 'Title', 'Number of Comments', 'Subreddit'], axis=1))\n",
    "cv = StratifiedKFold(n_splits=3, shuffle=True, random_state=41)\n",
    "dt = RandomForestClassifier()\n",
    "s = cross_val_score(dt, X, y, cv=cv, n_jobs=-1)\n",
    "print(\"{} Score:\\t{:0.3} ± {:0.3}\".format(\"Random Forest\", s.mean().round(3), s.std().round(3)))"
   ]
  },
  {
   "cell_type": "code",
   "execution_count": 175,
   "metadata": {},
   "outputs": [
    {
     "name": "stdout",
     "output_type": "stream",
     "text": [
      "Random Forest Score:\t0.505 ± 0.003\n"
     ]
    }
   ],
   "source": [
    "#Creating a Random Forest model using 'Guns' variable\n",
    "from sklearn.model_selection import cross_val_score, StratifiedKFold\n",
    "from sklearn.tree import DecisionTreeClassifier\n",
    "from sklearn.ensemble import RandomForestClassifier, ExtraTreesClassifier, BaggingClassifier\n",
    "from sklearn.preprocessing import LabelEncoder\n",
    "y = LabelEncoder().fit_transform(df['Comments Magnitude'])\n",
    "X = pd.get_dummies(df.drop(['Comments Magnitude', 'Black_P', 'Score', 'Domain','Time_Hour', 'Title', 'Number of Comments', 'Subreddit'], axis=1))\n",
    "cv = StratifiedKFold(n_splits=3, shuffle=True, random_state=41)\n",
    "dt = RandomForestClassifier()\n",
    "s = cross_val_score(dt, X, y, cv=cv, n_jobs=-1)\n",
    "print(\"{} Score:\\t{:0.3} ± {:0.3}\".format(\"Random Forest\", s.mean().round(3), s.std().round(3)))"
   ]
  },
  {
   "cell_type": "markdown",
   "metadata": {},
   "source": [
    "Those two variables we created did not perform as well (both had scores wavering around 50%)."
   ]
  },
  {
   "cell_type": "markdown",
   "metadata": {},
   "source": [
    "Next, we are going to create a count-vectorizer based on words in the thread titles."
   ]
  },
  {
   "cell_type": "code",
   "execution_count": 231,
   "metadata": {
    "collapsed": true
   },
   "outputs": [],
   "source": [
    "# Let's set up our new X and y\n",
    "# First, let's create a new column that will have the number of characters in the title\n",
    "\n",
    "df['Title_Length'] = df['Title'].apply(lambda x: len(x))"
   ]
  },
  {
   "cell_type": "code",
   "execution_count": 232,
   "metadata": {
    "collapsed": true
   },
   "outputs": [],
   "source": [
    "df['Target'] = [1 if x=='High' else 0 for x in df['Comments Magnitude']]\n",
    "y_2 = df['Target']\n",
    "X_2 = df['Title']"
   ]
  },
  {
   "cell_type": "code",
   "execution_count": 233,
   "metadata": {
    "collapsed": true
   },
   "outputs": [],
   "source": [
    "# Set up our train and test data sets\n",
    "from sklearn.model_selection import train_test_split\n",
    "from sklearn.feature_extraction.text import CountVectorizer, TfidfVectorizer\n",
    "X_train, X_test, y_train, y_test = train_test_split(X_2,y_2, test_size=.30)"
   ]
  },
  {
   "cell_type": "code",
   "execution_count": 234,
   "metadata": {
    "collapsed": true
   },
   "outputs": [],
   "source": [
    "# Next we will instantiate our data\n",
    "count = CountVectorizer()"
   ]
  },
  {
   "cell_type": "code",
   "execution_count": 235,
   "metadata": {
    "collapsed": true
   },
   "outputs": [],
   "source": [
    "# Now we will remove English stop words and create at most 500 new columns\n",
    "count = CountVectorizer(stop_words='english', max_features=500)"
   ]
  },
  {
   "cell_type": "code",
   "execution_count": 236,
   "metadata": {},
   "outputs": [
    {
     "data": {
      "text/plain": [
       "CountVectorizer(analyzer='word', binary=False, decode_error='strict',\n",
       "        dtype=<class 'numpy.int64'>, encoding='utf-8', input='content',\n",
       "        lowercase=True, max_df=1.0, max_features=500, min_df=1,\n",
       "        ngram_range=(1, 1), preprocessor=None, stop_words='english',\n",
       "        strip_accents=None, token_pattern='(?u)\\\\b\\\\w\\\\w+\\\\b',\n",
       "        tokenizer=None, vocabulary=None)"
      ]
     },
     "execution_count": 236,
     "metadata": {},
     "output_type": "execute_result"
    }
   ],
   "source": [
    "count.fit(X_train)"
   ]
  },
  {
   "cell_type": "code",
   "execution_count": 237,
   "metadata": {},
   "outputs": [
    {
     "data": {
      "text/plain": [
       "500"
      ]
     },
     "execution_count": 237,
     "metadata": {},
     "output_type": "execute_result"
    }
   ],
   "source": [
    "len(count.vocabulary_)"
   ]
  },
  {
   "cell_type": "code",
   "execution_count": 238,
   "metadata": {},
   "outputs": [
    {
     "data": {
      "text/plain": [
       "(1767,)"
      ]
     },
     "execution_count": 238,
     "metadata": {},
     "output_type": "execute_result"
    }
   ],
   "source": [
    "# Identify the shape of the training set and fit it\n",
    "X_train.shape"
   ]
  },
  {
   "cell_type": "code",
   "execution_count": 239,
   "metadata": {},
   "outputs": [
    {
     "data": {
      "text/plain": [
       "1257    Seeing Doom's post-patch-performance makes me ...\n",
       "544     Depression substantially reduced with multivit...\n",
       "31                                                 Thanks\n",
       "2372    🚨🚨 BREAKING : JURY FIND TEXAS DEMOCRAT STATE S...\n",
       "354     One stem of Lillies I purchased grew triple fl...\n",
       "Name: Title, dtype: object"
      ]
     },
     "execution_count": 239,
     "metadata": {},
     "output_type": "execute_result"
    }
   ],
   "source": [
    "X_train.head()"
   ]
  },
  {
   "cell_type": "code",
   "execution_count": 240,
   "metadata": {
    "collapsed": true
   },
   "outputs": [],
   "source": [
    "# Next, we will fit and transform our data\n",
    "X_train_matrix = count.transform(X_train)\n",
    "X_train_matrix = count.fit_transform(X_train)"
   ]
  },
  {
   "cell_type": "code",
   "execution_count": 241,
   "metadata": {},
   "outputs": [
    {
     "data": {
      "text/plain": [
       "RandomForestClassifier(bootstrap=True, class_weight=None, criterion='gini',\n",
       "            max_depth=10, max_features='auto', max_leaf_nodes=None,\n",
       "            min_impurity_decrease=0.0, min_impurity_split=None,\n",
       "            min_samples_leaf=1, min_samples_split=2,\n",
       "            min_weight_fraction_leaf=0.0, n_estimators=5, n_jobs=1,\n",
       "            oob_score=False, random_state=None, verbose=0,\n",
       "            warm_start=False)"
      ]
     },
     "execution_count": 241,
     "metadata": {},
     "output_type": "execute_result"
    }
   ],
   "source": [
    "# Fit our training data to a forest model, then determine our Forest score on the count-vectorized data\n",
    "forest = RandomForestClassifier(max_depth=10, n_estimators=5)\n",
    "forest.fit(X_train_matrix, y_train)"
   ]
  },
  {
   "cell_type": "code",
   "execution_count": 242,
   "metadata": {},
   "outputs": [
    {
     "data": {
      "text/plain": [
       "0.5704584040747029"
      ]
     },
     "execution_count": 242,
     "metadata": {},
     "output_type": "execute_result"
    }
   ],
   "source": [
    "forest.score(X_train_matrix, y_train)"
   ]
  },
  {
   "cell_type": "markdown",
   "metadata": {},
   "source": [
    "Our score a little bit above 50% (our threshhold), so our score isn't bad. Next, we have to test our data."
   ]
  },
  {
   "cell_type": "code",
   "execution_count": 243,
   "metadata": {},
   "outputs": [
    {
     "data": {
      "text/plain": [
       "0.4868073878627968"
      ]
     },
     "execution_count": 243,
     "metadata": {},
     "output_type": "execute_result"
    }
   ],
   "source": [
    "X_test_matrix = count.transform(X_test)\n",
    "forest.predict(X_test_matrix)\n",
    "forest.score(X_test_matrix, y_test)"
   ]
  },
  {
   "cell_type": "markdown",
   "metadata": {},
   "source": [
    "Not good. Our score is right below 50% accuracy. We just missed the cut. Now, let build a TDIDF model:"
   ]
  },
  {
   "cell_type": "code",
   "execution_count": 247,
   "metadata": {},
   "outputs": [
    {
     "data": {
      "text/plain": [
       "0.47493403693931396"
      ]
     },
     "execution_count": 247,
     "metadata": {},
     "output_type": "execute_result"
    }
   ],
   "source": [
    "X_train_matrix = tfidf.fit_transform(X_train)\n",
    "X_test_matrix  = tfidf.transform(X_test)\n",
    "forest.fit(X_train_matrix, y_train)\n",
    "forest.score(X_test_matrix, y_test)"
   ]
  },
  {
   "cell_type": "markdown",
   "metadata": {},
   "source": [
    "The accuracy score actually took a hit. We need to build a table of our new data set."
   ]
  },
  {
   "cell_type": "code",
   "execution_count": 249,
   "metadata": {
    "collapsed": true
   },
   "outputs": [],
   "source": [
    "X_3 = df[['Title','Title_Length']]\n",
    "X_train, X_test, y_train, y_test = train_test_split(X_3,y_2, test_size=.20)\n",
    "X_train_matrix = tfidf.fit_transform(X_train['Title'])\n",
    "X_test_matrix = tfidf.transform(X_test['Title'])"
   ]
  },
  {
   "cell_type": "code",
   "execution_count": 250,
   "metadata": {
    "collapsed": true
   },
   "outputs": [],
   "source": [
    "X_train_df = pd.DataFrame(X_train_matrix.todense(),\n",
    "                     columns=tfidf.get_feature_names(),\n",
    "                         index=X_train.index)\n",
    "\n",
    "X_test_df = pd.DataFrame(X_test_matrix.todense(),\n",
    "                     columns=tfidf.get_feature_names(),\n",
    "                        index=X_test.index)"
   ]
  },
  {
   "cell_type": "code",
   "execution_count": 251,
   "metadata": {
    "collapsed": true
   },
   "outputs": [],
   "source": [
    "X_train = X_train.join(X_train_df).drop('Title', axis=1)\n",
    "\n",
    "X_test  = X_test.join(X_test_df).drop('Title', axis=1)"
   ]
  },
  {
   "cell_type": "code",
   "execution_count": 252,
   "metadata": {},
   "outputs": [
    {
     "data": {
      "text/html": [
       "<div>\n",
       "<style>\n",
       "    .dataframe thead tr:only-child th {\n",
       "        text-align: right;\n",
       "    }\n",
       "\n",
       "    .dataframe thead th {\n",
       "        text-align: left;\n",
       "    }\n",
       "\n",
       "    .dataframe tbody tr th {\n",
       "        vertical-align: top;\n",
       "    }\n",
       "</style>\n",
       "<table border=\"1\" class=\"dataframe\">\n",
       "  <thead>\n",
       "    <tr style=\"text-align: right;\">\n",
       "      <th></th>\n",
       "      <th>Title_Length</th>\n",
       "      <th>000</th>\n",
       "      <th>10</th>\n",
       "      <th>1080</th>\n",
       "      <th>11</th>\n",
       "      <th>12</th>\n",
       "      <th>15</th>\n",
       "      <th>16</th>\n",
       "      <th>18</th>\n",
       "      <th>1977</th>\n",
       "      <th>...</th>\n",
       "      <th>woman</th>\n",
       "      <th>women</th>\n",
       "      <th>won</th>\n",
       "      <th>wonder</th>\n",
       "      <th>word</th>\n",
       "      <th>work</th>\n",
       "      <th>world</th>\n",
       "      <th>year</th>\n",
       "      <th>years</th>\n",
       "      <th>yes</th>\n",
       "    </tr>\n",
       "  </thead>\n",
       "  <tbody>\n",
       "    <tr>\n",
       "      <th>1317</th>\n",
       "      <td>26</td>\n",
       "      <td>0.0</td>\n",
       "      <td>0.0</td>\n",
       "      <td>0.0</td>\n",
       "      <td>0.0</td>\n",
       "      <td>0.0</td>\n",
       "      <td>0.0</td>\n",
       "      <td>0.0</td>\n",
       "      <td>0.0</td>\n",
       "      <td>0.0</td>\n",
       "      <td>...</td>\n",
       "      <td>0.0</td>\n",
       "      <td>0.0</td>\n",
       "      <td>0.0</td>\n",
       "      <td>0.0</td>\n",
       "      <td>0.0</td>\n",
       "      <td>0.0</td>\n",
       "      <td>0.0</td>\n",
       "      <td>0.0</td>\n",
       "      <td>0.000000</td>\n",
       "      <td>0.0</td>\n",
       "    </tr>\n",
       "    <tr>\n",
       "      <th>1574</th>\n",
       "      <td>6</td>\n",
       "      <td>0.0</td>\n",
       "      <td>0.0</td>\n",
       "      <td>0.0</td>\n",
       "      <td>0.0</td>\n",
       "      <td>0.0</td>\n",
       "      <td>0.0</td>\n",
       "      <td>0.0</td>\n",
       "      <td>0.0</td>\n",
       "      <td>0.0</td>\n",
       "      <td>...</td>\n",
       "      <td>0.0</td>\n",
       "      <td>0.0</td>\n",
       "      <td>0.0</td>\n",
       "      <td>0.0</td>\n",
       "      <td>0.0</td>\n",
       "      <td>0.0</td>\n",
       "      <td>0.0</td>\n",
       "      <td>0.0</td>\n",
       "      <td>0.000000</td>\n",
       "      <td>0.0</td>\n",
       "    </tr>\n",
       "    <tr>\n",
       "      <th>1404</th>\n",
       "      <td>160</td>\n",
       "      <td>0.0</td>\n",
       "      <td>0.0</td>\n",
       "      <td>0.0</td>\n",
       "      <td>0.0</td>\n",
       "      <td>0.0</td>\n",
       "      <td>0.0</td>\n",
       "      <td>0.0</td>\n",
       "      <td>0.0</td>\n",
       "      <td>0.0</td>\n",
       "      <td>...</td>\n",
       "      <td>0.0</td>\n",
       "      <td>0.0</td>\n",
       "      <td>0.0</td>\n",
       "      <td>0.0</td>\n",
       "      <td>0.0</td>\n",
       "      <td>0.0</td>\n",
       "      <td>0.0</td>\n",
       "      <td>0.0</td>\n",
       "      <td>0.000000</td>\n",
       "      <td>0.0</td>\n",
       "    </tr>\n",
       "    <tr>\n",
       "      <th>867</th>\n",
       "      <td>45</td>\n",
       "      <td>0.0</td>\n",
       "      <td>0.0</td>\n",
       "      <td>0.0</td>\n",
       "      <td>0.0</td>\n",
       "      <td>0.0</td>\n",
       "      <td>0.0</td>\n",
       "      <td>0.0</td>\n",
       "      <td>0.0</td>\n",
       "      <td>0.0</td>\n",
       "      <td>...</td>\n",
       "      <td>0.0</td>\n",
       "      <td>0.0</td>\n",
       "      <td>0.0</td>\n",
       "      <td>0.0</td>\n",
       "      <td>0.0</td>\n",
       "      <td>0.0</td>\n",
       "      <td>0.0</td>\n",
       "      <td>0.0</td>\n",
       "      <td>0.000000</td>\n",
       "      <td>0.0</td>\n",
       "    </tr>\n",
       "    <tr>\n",
       "      <th>317</th>\n",
       "      <td>22</td>\n",
       "      <td>0.0</td>\n",
       "      <td>0.0</td>\n",
       "      <td>0.0</td>\n",
       "      <td>0.0</td>\n",
       "      <td>0.0</td>\n",
       "      <td>0.0</td>\n",
       "      <td>0.0</td>\n",
       "      <td>0.0</td>\n",
       "      <td>0.0</td>\n",
       "      <td>...</td>\n",
       "      <td>0.0</td>\n",
       "      <td>0.0</td>\n",
       "      <td>0.0</td>\n",
       "      <td>0.0</td>\n",
       "      <td>0.0</td>\n",
       "      <td>0.0</td>\n",
       "      <td>0.0</td>\n",
       "      <td>0.0</td>\n",
       "      <td>0.626043</td>\n",
       "      <td>0.0</td>\n",
       "    </tr>\n",
       "  </tbody>\n",
       "</table>\n",
       "<p>5 rows × 501 columns</p>\n",
       "</div>"
      ],
      "text/plain": [
       "      Title_Length  000   10  1080   11   12   15   16   18  1977 ...   woman  \\\n",
       "1317            26  0.0  0.0   0.0  0.0  0.0  0.0  0.0  0.0   0.0 ...     0.0   \n",
       "1574             6  0.0  0.0   0.0  0.0  0.0  0.0  0.0  0.0   0.0 ...     0.0   \n",
       "1404           160  0.0  0.0   0.0  0.0  0.0  0.0  0.0  0.0   0.0 ...     0.0   \n",
       "867             45  0.0  0.0   0.0  0.0  0.0  0.0  0.0  0.0   0.0 ...     0.0   \n",
       "317             22  0.0  0.0   0.0  0.0  0.0  0.0  0.0  0.0   0.0 ...     0.0   \n",
       "\n",
       "      women  won  wonder  word  work  world  year     years  yes  \n",
       "1317    0.0  0.0     0.0   0.0   0.0    0.0   0.0  0.000000  0.0  \n",
       "1574    0.0  0.0     0.0   0.0   0.0    0.0   0.0  0.000000  0.0  \n",
       "1404    0.0  0.0     0.0   0.0   0.0    0.0   0.0  0.000000  0.0  \n",
       "867     0.0  0.0     0.0   0.0   0.0    0.0   0.0  0.000000  0.0  \n",
       "317     0.0  0.0     0.0   0.0   0.0    0.0   0.0  0.626043  0.0  \n",
       "\n",
       "[5 rows x 501 columns]"
      ]
     },
     "execution_count": 252,
     "metadata": {},
     "output_type": "execute_result"
    }
   ],
   "source": [
    "X_train.head()"
   ]
  },
  {
   "cell_type": "code",
   "execution_count": 261,
   "metadata": {
    "scrolled": true
   },
   "outputs": [
    {
     "data": {
      "text/html": [
       "<div>\n",
       "<style>\n",
       "    .dataframe thead tr:only-child th {\n",
       "        text-align: right;\n",
       "    }\n",
       "\n",
       "    .dataframe thead th {\n",
       "        text-align: left;\n",
       "    }\n",
       "\n",
       "    .dataframe tbody tr th {\n",
       "        vertical-align: top;\n",
       "    }\n",
       "</style>\n",
       "<table border=\"1\" class=\"dataframe\">\n",
       "  <thead>\n",
       "    <tr style=\"text-align: right;\">\n",
       "      <th></th>\n",
       "      <th>Title_Length</th>\n",
       "      <th>000</th>\n",
       "      <th>10</th>\n",
       "      <th>1080</th>\n",
       "      <th>11</th>\n",
       "      <th>12</th>\n",
       "      <th>15</th>\n",
       "      <th>16</th>\n",
       "      <th>18</th>\n",
       "      <th>1977</th>\n",
       "      <th>...</th>\n",
       "      <th>woman</th>\n",
       "      <th>women</th>\n",
       "      <th>won</th>\n",
       "      <th>wonder</th>\n",
       "      <th>word</th>\n",
       "      <th>work</th>\n",
       "      <th>world</th>\n",
       "      <th>year</th>\n",
       "      <th>years</th>\n",
       "      <th>yes</th>\n",
       "    </tr>\n",
       "  </thead>\n",
       "  <tbody>\n",
       "    <tr>\n",
       "      <th>126</th>\n",
       "      <td>34</td>\n",
       "      <td>0.0</td>\n",
       "      <td>0.0</td>\n",
       "      <td>0.0</td>\n",
       "      <td>0.0</td>\n",
       "      <td>0.0</td>\n",
       "      <td>0.0</td>\n",
       "      <td>0.0</td>\n",
       "      <td>0.0</td>\n",
       "      <td>0.0</td>\n",
       "      <td>...</td>\n",
       "      <td>0.0</td>\n",
       "      <td>0.0</td>\n",
       "      <td>0.0</td>\n",
       "      <td>0.0</td>\n",
       "      <td>0.0</td>\n",
       "      <td>0.0</td>\n",
       "      <td>0.0</td>\n",
       "      <td>0.0</td>\n",
       "      <td>0.0</td>\n",
       "      <td>0.0</td>\n",
       "    </tr>\n",
       "    <tr>\n",
       "      <th>719</th>\n",
       "      <td>22</td>\n",
       "      <td>0.0</td>\n",
       "      <td>0.0</td>\n",
       "      <td>0.0</td>\n",
       "      <td>0.0</td>\n",
       "      <td>0.0</td>\n",
       "      <td>0.0</td>\n",
       "      <td>0.0</td>\n",
       "      <td>0.0</td>\n",
       "      <td>0.0</td>\n",
       "      <td>...</td>\n",
       "      <td>0.0</td>\n",
       "      <td>0.0</td>\n",
       "      <td>0.0</td>\n",
       "      <td>0.0</td>\n",
       "      <td>0.0</td>\n",
       "      <td>0.0</td>\n",
       "      <td>0.0</td>\n",
       "      <td>0.0</td>\n",
       "      <td>0.0</td>\n",
       "      <td>0.0</td>\n",
       "    </tr>\n",
       "    <tr>\n",
       "      <th>2383</th>\n",
       "      <td>53</td>\n",
       "      <td>0.0</td>\n",
       "      <td>0.0</td>\n",
       "      <td>0.0</td>\n",
       "      <td>0.0</td>\n",
       "      <td>0.0</td>\n",
       "      <td>0.0</td>\n",
       "      <td>0.0</td>\n",
       "      <td>0.0</td>\n",
       "      <td>0.0</td>\n",
       "      <td>...</td>\n",
       "      <td>0.0</td>\n",
       "      <td>0.0</td>\n",
       "      <td>0.0</td>\n",
       "      <td>0.0</td>\n",
       "      <td>0.0</td>\n",
       "      <td>0.0</td>\n",
       "      <td>0.0</td>\n",
       "      <td>0.0</td>\n",
       "      <td>0.0</td>\n",
       "      <td>0.0</td>\n",
       "    </tr>\n",
       "    <tr>\n",
       "      <th>1590</th>\n",
       "      <td>38</td>\n",
       "      <td>0.0</td>\n",
       "      <td>0.0</td>\n",
       "      <td>0.0</td>\n",
       "      <td>0.0</td>\n",
       "      <td>0.0</td>\n",
       "      <td>0.0</td>\n",
       "      <td>0.0</td>\n",
       "      <td>0.0</td>\n",
       "      <td>0.0</td>\n",
       "      <td>...</td>\n",
       "      <td>0.0</td>\n",
       "      <td>0.0</td>\n",
       "      <td>0.0</td>\n",
       "      <td>0.0</td>\n",
       "      <td>0.0</td>\n",
       "      <td>0.0</td>\n",
       "      <td>0.0</td>\n",
       "      <td>0.0</td>\n",
       "      <td>0.0</td>\n",
       "      <td>0.0</td>\n",
       "    </tr>\n",
       "    <tr>\n",
       "      <th>1268</th>\n",
       "      <td>86</td>\n",
       "      <td>0.0</td>\n",
       "      <td>0.0</td>\n",
       "      <td>0.0</td>\n",
       "      <td>0.0</td>\n",
       "      <td>0.0</td>\n",
       "      <td>0.0</td>\n",
       "      <td>0.0</td>\n",
       "      <td>0.0</td>\n",
       "      <td>0.0</td>\n",
       "      <td>...</td>\n",
       "      <td>0.0</td>\n",
       "      <td>0.0</td>\n",
       "      <td>0.0</td>\n",
       "      <td>0.0</td>\n",
       "      <td>0.0</td>\n",
       "      <td>0.0</td>\n",
       "      <td>0.0</td>\n",
       "      <td>0.0</td>\n",
       "      <td>0.0</td>\n",
       "      <td>0.0</td>\n",
       "    </tr>\n",
       "  </tbody>\n",
       "</table>\n",
       "<p>5 rows × 501 columns</p>\n",
       "</div>"
      ],
      "text/plain": [
       "      Title_Length  000   10  1080   11   12   15   16   18  1977 ...   woman  \\\n",
       "126             34  0.0  0.0   0.0  0.0  0.0  0.0  0.0  0.0   0.0 ...     0.0   \n",
       "719             22  0.0  0.0   0.0  0.0  0.0  0.0  0.0  0.0   0.0 ...     0.0   \n",
       "2383            53  0.0  0.0   0.0  0.0  0.0  0.0  0.0  0.0   0.0 ...     0.0   \n",
       "1590            38  0.0  0.0   0.0  0.0  0.0  0.0  0.0  0.0   0.0 ...     0.0   \n",
       "1268            86  0.0  0.0   0.0  0.0  0.0  0.0  0.0  0.0   0.0 ...     0.0   \n",
       "\n",
       "      women  won  wonder  word  work  world  year  years  yes  \n",
       "126     0.0  0.0     0.0   0.0   0.0    0.0   0.0    0.0  0.0  \n",
       "719     0.0  0.0     0.0   0.0   0.0    0.0   0.0    0.0  0.0  \n",
       "2383    0.0  0.0     0.0   0.0   0.0    0.0   0.0    0.0  0.0  \n",
       "1590    0.0  0.0     0.0   0.0   0.0    0.0   0.0    0.0  0.0  \n",
       "1268    0.0  0.0     0.0   0.0   0.0    0.0   0.0    0.0  0.0  \n",
       "\n",
       "[5 rows x 501 columns]"
      ]
     },
     "execution_count": 261,
     "metadata": {},
     "output_type": "execute_result"
    }
   ],
   "source": [
    "X_test.head()"
   ]
  },
  {
   "cell_type": "code",
   "execution_count": 269,
   "metadata": {},
   "outputs": [
    {
     "data": {
      "text/html": [
       "<div>\n",
       "<style>\n",
       "    .dataframe thead tr:only-child th {\n",
       "        text-align: right;\n",
       "    }\n",
       "\n",
       "    .dataframe thead th {\n",
       "        text-align: left;\n",
       "    }\n",
       "\n",
       "    .dataframe tbody tr th {\n",
       "        vertical-align: top;\n",
       "    }\n",
       "</style>\n",
       "<table border=\"1\" class=\"dataframe\">\n",
       "  <thead>\n",
       "    <tr style=\"text-align: right;\">\n",
       "      <th></th>\n",
       "      <th>Title_Length</th>\n",
       "      <th>000</th>\n",
       "      <th>10</th>\n",
       "      <th>1080</th>\n",
       "      <th>11</th>\n",
       "      <th>12</th>\n",
       "      <th>15</th>\n",
       "      <th>16</th>\n",
       "      <th>18</th>\n",
       "      <th>1977</th>\n",
       "      <th>...</th>\n",
       "      <th>woman</th>\n",
       "      <th>women</th>\n",
       "      <th>won</th>\n",
       "      <th>wonder</th>\n",
       "      <th>word</th>\n",
       "      <th>work</th>\n",
       "      <th>world</th>\n",
       "      <th>year</th>\n",
       "      <th>years</th>\n",
       "      <th>yes</th>\n",
       "    </tr>\n",
       "  </thead>\n",
       "  <tbody>\n",
       "    <tr>\n",
       "      <th>count</th>\n",
       "      <td>2020.000000</td>\n",
       "      <td>2020.000000</td>\n",
       "      <td>2020.000000</td>\n",
       "      <td>2020.000000</td>\n",
       "      <td>2020.000000</td>\n",
       "      <td>2020.000000</td>\n",
       "      <td>2020.000000</td>\n",
       "      <td>2020.000000</td>\n",
       "      <td>2020.000000</td>\n",
       "      <td>2020.000000</td>\n",
       "      <td>...</td>\n",
       "      <td>2020.000000</td>\n",
       "      <td>2020.000000</td>\n",
       "      <td>2020.000000</td>\n",
       "      <td>2020.000000</td>\n",
       "      <td>2020.000000</td>\n",
       "      <td>2020.000000</td>\n",
       "      <td>2020.000000</td>\n",
       "      <td>2020.000000</td>\n",
       "      <td>2020.000000</td>\n",
       "      <td>2020.000000</td>\n",
       "    </tr>\n",
       "    <tr>\n",
       "      <th>mean</th>\n",
       "      <td>60.147525</td>\n",
       "      <td>0.001973</td>\n",
       "      <td>0.003632</td>\n",
       "      <td>0.001244</td>\n",
       "      <td>0.002130</td>\n",
       "      <td>0.002388</td>\n",
       "      <td>0.001928</td>\n",
       "      <td>0.001506</td>\n",
       "      <td>0.001569</td>\n",
       "      <td>0.001802</td>\n",
       "      <td>...</td>\n",
       "      <td>0.001215</td>\n",
       "      <td>0.002059</td>\n",
       "      <td>0.003451</td>\n",
       "      <td>0.002226</td>\n",
       "      <td>0.001475</td>\n",
       "      <td>0.006684</td>\n",
       "      <td>0.003189</td>\n",
       "      <td>0.007393</td>\n",
       "      <td>0.005857</td>\n",
       "      <td>0.002216</td>\n",
       "    </tr>\n",
       "    <tr>\n",
       "      <th>std</th>\n",
       "      <td>49.310582</td>\n",
       "      <td>0.034651</td>\n",
       "      <td>0.043579</td>\n",
       "      <td>0.032581</td>\n",
       "      <td>0.039332</td>\n",
       "      <td>0.036652</td>\n",
       "      <td>0.035027</td>\n",
       "      <td>0.030517</td>\n",
       "      <td>0.033144</td>\n",
       "      <td>0.038444</td>\n",
       "      <td>...</td>\n",
       "      <td>0.028233</td>\n",
       "      <td>0.035126</td>\n",
       "      <td>0.047251</td>\n",
       "      <td>0.045124</td>\n",
       "      <td>0.030280</td>\n",
       "      <td>0.063300</td>\n",
       "      <td>0.044834</td>\n",
       "      <td>0.063598</td>\n",
       "      <td>0.051207</td>\n",
       "      <td>0.036450</td>\n",
       "    </tr>\n",
       "    <tr>\n",
       "      <th>min</th>\n",
       "      <td>1.000000</td>\n",
       "      <td>0.000000</td>\n",
       "      <td>0.000000</td>\n",
       "      <td>0.000000</td>\n",
       "      <td>0.000000</td>\n",
       "      <td>0.000000</td>\n",
       "      <td>0.000000</td>\n",
       "      <td>0.000000</td>\n",
       "      <td>0.000000</td>\n",
       "      <td>0.000000</td>\n",
       "      <td>...</td>\n",
       "      <td>0.000000</td>\n",
       "      <td>0.000000</td>\n",
       "      <td>0.000000</td>\n",
       "      <td>0.000000</td>\n",
       "      <td>0.000000</td>\n",
       "      <td>0.000000</td>\n",
       "      <td>0.000000</td>\n",
       "      <td>0.000000</td>\n",
       "      <td>0.000000</td>\n",
       "      <td>0.000000</td>\n",
       "    </tr>\n",
       "    <tr>\n",
       "      <th>25%</th>\n",
       "      <td>26.000000</td>\n",
       "      <td>0.000000</td>\n",
       "      <td>0.000000</td>\n",
       "      <td>0.000000</td>\n",
       "      <td>0.000000</td>\n",
       "      <td>0.000000</td>\n",
       "      <td>0.000000</td>\n",
       "      <td>0.000000</td>\n",
       "      <td>0.000000</td>\n",
       "      <td>0.000000</td>\n",
       "      <td>...</td>\n",
       "      <td>0.000000</td>\n",
       "      <td>0.000000</td>\n",
       "      <td>0.000000</td>\n",
       "      <td>0.000000</td>\n",
       "      <td>0.000000</td>\n",
       "      <td>0.000000</td>\n",
       "      <td>0.000000</td>\n",
       "      <td>0.000000</td>\n",
       "      <td>0.000000</td>\n",
       "      <td>0.000000</td>\n",
       "    </tr>\n",
       "    <tr>\n",
       "      <th>50%</th>\n",
       "      <td>48.000000</td>\n",
       "      <td>0.000000</td>\n",
       "      <td>0.000000</td>\n",
       "      <td>0.000000</td>\n",
       "      <td>0.000000</td>\n",
       "      <td>0.000000</td>\n",
       "      <td>0.000000</td>\n",
       "      <td>0.000000</td>\n",
       "      <td>0.000000</td>\n",
       "      <td>0.000000</td>\n",
       "      <td>...</td>\n",
       "      <td>0.000000</td>\n",
       "      <td>0.000000</td>\n",
       "      <td>0.000000</td>\n",
       "      <td>0.000000</td>\n",
       "      <td>0.000000</td>\n",
       "      <td>0.000000</td>\n",
       "      <td>0.000000</td>\n",
       "      <td>0.000000</td>\n",
       "      <td>0.000000</td>\n",
       "      <td>0.000000</td>\n",
       "    </tr>\n",
       "    <tr>\n",
       "      <th>75%</th>\n",
       "      <td>77.000000</td>\n",
       "      <td>0.000000</td>\n",
       "      <td>0.000000</td>\n",
       "      <td>0.000000</td>\n",
       "      <td>0.000000</td>\n",
       "      <td>0.000000</td>\n",
       "      <td>0.000000</td>\n",
       "      <td>0.000000</td>\n",
       "      <td>0.000000</td>\n",
       "      <td>0.000000</td>\n",
       "      <td>...</td>\n",
       "      <td>0.000000</td>\n",
       "      <td>0.000000</td>\n",
       "      <td>0.000000</td>\n",
       "      <td>0.000000</td>\n",
       "      <td>0.000000</td>\n",
       "      <td>0.000000</td>\n",
       "      <td>0.000000</td>\n",
       "      <td>0.000000</td>\n",
       "      <td>0.000000</td>\n",
       "      <td>0.000000</td>\n",
       "    </tr>\n",
       "    <tr>\n",
       "      <th>max</th>\n",
       "      <td>300.000000</td>\n",
       "      <td>0.785535</td>\n",
       "      <td>1.000000</td>\n",
       "      <td>1.000000</td>\n",
       "      <td>1.000000</td>\n",
       "      <td>1.000000</td>\n",
       "      <td>1.000000</td>\n",
       "      <td>0.707107</td>\n",
       "      <td>1.000000</td>\n",
       "      <td>1.000000</td>\n",
       "      <td>...</td>\n",
       "      <td>0.768014</td>\n",
       "      <td>1.000000</td>\n",
       "      <td>1.000000</td>\n",
       "      <td>1.000000</td>\n",
       "      <td>0.715143</td>\n",
       "      <td>1.000000</td>\n",
       "      <td>1.000000</td>\n",
       "      <td>1.000000</td>\n",
       "      <td>0.650278</td>\n",
       "      <td>0.806653</td>\n",
       "    </tr>\n",
       "  </tbody>\n",
       "</table>\n",
       "<p>8 rows × 501 columns</p>\n",
       "</div>"
      ],
      "text/plain": [
       "       Title_Length          000           10         1080           11  \\\n",
       "count   2020.000000  2020.000000  2020.000000  2020.000000  2020.000000   \n",
       "mean      60.147525     0.001973     0.003632     0.001244     0.002130   \n",
       "std       49.310582     0.034651     0.043579     0.032581     0.039332   \n",
       "min        1.000000     0.000000     0.000000     0.000000     0.000000   \n",
       "25%       26.000000     0.000000     0.000000     0.000000     0.000000   \n",
       "50%       48.000000     0.000000     0.000000     0.000000     0.000000   \n",
       "75%       77.000000     0.000000     0.000000     0.000000     0.000000   \n",
       "max      300.000000     0.785535     1.000000     1.000000     1.000000   \n",
       "\n",
       "                12           15           16           18         1977  \\\n",
       "count  2020.000000  2020.000000  2020.000000  2020.000000  2020.000000   \n",
       "mean      0.002388     0.001928     0.001506     0.001569     0.001802   \n",
       "std       0.036652     0.035027     0.030517     0.033144     0.038444   \n",
       "min       0.000000     0.000000     0.000000     0.000000     0.000000   \n",
       "25%       0.000000     0.000000     0.000000     0.000000     0.000000   \n",
       "50%       0.000000     0.000000     0.000000     0.000000     0.000000   \n",
       "75%       0.000000     0.000000     0.000000     0.000000     0.000000   \n",
       "max       1.000000     1.000000     0.707107     1.000000     1.000000   \n",
       "\n",
       "          ...             woman        women          won       wonder  \\\n",
       "count     ...       2020.000000  2020.000000  2020.000000  2020.000000   \n",
       "mean      ...          0.001215     0.002059     0.003451     0.002226   \n",
       "std       ...          0.028233     0.035126     0.047251     0.045124   \n",
       "min       ...          0.000000     0.000000     0.000000     0.000000   \n",
       "25%       ...          0.000000     0.000000     0.000000     0.000000   \n",
       "50%       ...          0.000000     0.000000     0.000000     0.000000   \n",
       "75%       ...          0.000000     0.000000     0.000000     0.000000   \n",
       "max       ...          0.768014     1.000000     1.000000     1.000000   \n",
       "\n",
       "              word         work        world         year        years  \\\n",
       "count  2020.000000  2020.000000  2020.000000  2020.000000  2020.000000   \n",
       "mean      0.001475     0.006684     0.003189     0.007393     0.005857   \n",
       "std       0.030280     0.063300     0.044834     0.063598     0.051207   \n",
       "min       0.000000     0.000000     0.000000     0.000000     0.000000   \n",
       "25%       0.000000     0.000000     0.000000     0.000000     0.000000   \n",
       "50%       0.000000     0.000000     0.000000     0.000000     0.000000   \n",
       "75%       0.000000     0.000000     0.000000     0.000000     0.000000   \n",
       "max       0.715143     1.000000     1.000000     1.000000     0.650278   \n",
       "\n",
       "               yes  \n",
       "count  2020.000000  \n",
       "mean      0.002216  \n",
       "std       0.036450  \n",
       "min       0.000000  \n",
       "25%       0.000000  \n",
       "50%       0.000000  \n",
       "75%       0.000000  \n",
       "max       0.806653  \n",
       "\n",
       "[8 rows x 501 columns]"
      ]
     },
     "execution_count": 269,
     "metadata": {},
     "output_type": "execute_result"
    }
   ],
   "source": [
    "X_train.describe()"
   ]
  },
  {
   "cell_type": "code",
   "execution_count": 267,
   "metadata": {},
   "outputs": [
    {
     "data": {
      "text/plain": [
       "48.0"
      ]
     },
     "execution_count": 267,
     "metadata": {},
     "output_type": "execute_result"
    }
   ],
   "source": [
    "# Let's create a new variable where we separate posts with a high number of characters in the title from posts with a low number of characters in their post\n",
    "X_train['Title_Length'].median()"
   ]
  },
  {
   "cell_type": "code",
   "execution_count": 279,
   "metadata": {},
   "outputs": [
    {
     "name": "stdout",
     "output_type": "stream",
     "text": [
      "['yes', 'gif', 'fraud']\n"
     ]
    }
   ],
   "source": [
    "# Our median is 48.0 so that will be our threshhold. Next, we'll create some new features based on the most popular words in the posts\n",
    "vectorizer = TfidfVectorizer()\n",
    "X = vectorizer.fit_transform(X_train)\n",
    "indices = np.argsort(vectorizer.idf_)[::-1]\n",
    "features = vectorizer.get_feature_names()\n",
    "top_n = 3\n",
    "top_features = [features[i] for i in indices[:top_n]]\n",
    "print(top_features)\n",
    "\n",
    "# Our three most popular words are 'yes', 'gif', and 'fraud'"
   ]
  },
  {
   "cell_type": "code",
   "execution_count": 284,
   "metadata": {
    "collapsed": true
   },
   "outputs": [],
   "source": [
    "df['Popular'] = np.where(df['Title'].str.contains('yes' or 'gif' or 'fraud', case=False),'Yes', 'No' )\n",
    "df['Gif'] = np.where(df['Title'].str.contains( 'gif', case=False),'Yes', 'No' )\n",
    "df['Char'] = np.where(len(df['Title'])>=48, 'High', 'Low')"
   ]
  },
  {
   "cell_type": "code",
   "execution_count": 285,
   "metadata": {},
   "outputs": [
    {
     "data": {
      "text/html": [
       "<div>\n",
       "<style>\n",
       "    .dataframe thead tr:only-child th {\n",
       "        text-align: right;\n",
       "    }\n",
       "\n",
       "    .dataframe thead th {\n",
       "        text-align: left;\n",
       "    }\n",
       "\n",
       "    .dataframe tbody tr th {\n",
       "        vertical-align: top;\n",
       "    }\n",
       "</style>\n",
       "<table border=\"1\" class=\"dataframe\">\n",
       "  <thead>\n",
       "    <tr style=\"text-align: right;\">\n",
       "      <th></th>\n",
       "      <th>Domain</th>\n",
       "      <th>Number of Comments</th>\n",
       "      <th>Score</th>\n",
       "      <th>Subreddit</th>\n",
       "      <th>Title</th>\n",
       "      <th>Time_Hour</th>\n",
       "      <th>Comments Magnitude</th>\n",
       "      <th>Guns</th>\n",
       "      <th>Black_P</th>\n",
       "      <th>Title_Length</th>\n",
       "      <th>Target</th>\n",
       "      <th>Popular</th>\n",
       "      <th>Gif</th>\n",
       "      <th>Char</th>\n",
       "    </tr>\n",
       "  </thead>\n",
       "  <tbody>\n",
       "    <tr>\n",
       "      <th>0</th>\n",
       "      <td>gfycat.com</td>\n",
       "      <td>177</td>\n",
       "      <td>5080</td>\n",
       "      <td>r/educationalgifs</td>\n",
       "      <td>how the Japanese \"roll their sleeves up\"</td>\n",
       "      <td>18</td>\n",
       "      <td>High</td>\n",
       "      <td>No</td>\n",
       "      <td>No</td>\n",
       "      <td>40</td>\n",
       "      <td>1</td>\n",
       "      <td>No</td>\n",
       "      <td>No</td>\n",
       "      <td>High</td>\n",
       "    </tr>\n",
       "    <tr>\n",
       "      <th>1</th>\n",
       "      <td>i.redd.it</td>\n",
       "      <td>47</td>\n",
       "      <td>8821</td>\n",
       "      <td>r/tumblr</td>\n",
       "      <td>There are some universal truths which cannot b...</td>\n",
       "      <td>16</td>\n",
       "      <td>High</td>\n",
       "      <td>No</td>\n",
       "      <td>No</td>\n",
       "      <td>55</td>\n",
       "      <td>1</td>\n",
       "      <td>No</td>\n",
       "      <td>No</td>\n",
       "      <td>High</td>\n",
       "    </tr>\n",
       "    <tr>\n",
       "      <th>2</th>\n",
       "      <td>i.redd.it</td>\n",
       "      <td>547</td>\n",
       "      <td>26700</td>\n",
       "      <td>r/ProgrammerHumor</td>\n",
       "      <td>FrontEnd VS BackEnd</td>\n",
       "      <td>15</td>\n",
       "      <td>High</td>\n",
       "      <td>No</td>\n",
       "      <td>No</td>\n",
       "      <td>19</td>\n",
       "      <td>1</td>\n",
       "      <td>No</td>\n",
       "      <td>No</td>\n",
       "      <td>High</td>\n",
       "    </tr>\n",
       "    <tr>\n",
       "      <th>3</th>\n",
       "      <td>press.cc.com</td>\n",
       "      <td>523</td>\n",
       "      <td>14700</td>\n",
       "      <td>r/television</td>\n",
       "      <td>Comedy Central Renews \"Drunk History\" for a Si...</td>\n",
       "      <td>16</td>\n",
       "      <td>High</td>\n",
       "      <td>No</td>\n",
       "      <td>No</td>\n",
       "      <td>57</td>\n",
       "      <td>1</td>\n",
       "      <td>No</td>\n",
       "      <td>No</td>\n",
       "      <td>High</td>\n",
       "    </tr>\n",
       "    <tr>\n",
       "      <th>4</th>\n",
       "      <td>i.redd.it</td>\n",
       "      <td>905</td>\n",
       "      <td>24300</td>\n",
       "      <td>r/facepalm</td>\n",
       "      <td>ironic.jpg</td>\n",
       "      <td>15</td>\n",
       "      <td>High</td>\n",
       "      <td>No</td>\n",
       "      <td>No</td>\n",
       "      <td>10</td>\n",
       "      <td>1</td>\n",
       "      <td>No</td>\n",
       "      <td>No</td>\n",
       "      <td>High</td>\n",
       "    </tr>\n",
       "  </tbody>\n",
       "</table>\n",
       "</div>"
      ],
      "text/plain": [
       "         Domain  Number of Comments  Score          Subreddit  \\\n",
       "0    gfycat.com                 177   5080  r/educationalgifs   \n",
       "1     i.redd.it                  47   8821           r/tumblr   \n",
       "2     i.redd.it                 547  26700  r/ProgrammerHumor   \n",
       "3  press.cc.com                 523  14700       r/television   \n",
       "4     i.redd.it                 905  24300         r/facepalm   \n",
       "\n",
       "                                               Title Time_Hour  \\\n",
       "0           how the Japanese \"roll their sleeves up\"        18   \n",
       "1  There are some universal truths which cannot b...        16   \n",
       "2                                FrontEnd VS BackEnd        15   \n",
       "3  Comedy Central Renews \"Drunk History\" for a Si...        16   \n",
       "4                                         ironic.jpg        15   \n",
       "\n",
       "  Comments Magnitude Guns Black_P  Title_Length  Target Popular Gif  Char  \n",
       "0               High   No      No            40       1      No  No  High  \n",
       "1               High   No      No            55       1      No  No  High  \n",
       "2               High   No      No            19       1      No  No  High  \n",
       "3               High   No      No            57       1      No  No  High  \n",
       "4               High   No      No            10       1      No  No  High  "
      ]
     },
     "execution_count": 285,
     "metadata": {},
     "output_type": "execute_result"
    }
   ],
   "source": [
    "df.head()"
   ]
  },
  {
   "cell_type": "code",
   "execution_count": 286,
   "metadata": {},
   "outputs": [
    {
     "name": "stdout",
     "output_type": "stream",
     "text": [
      "Random Forest Score:\t0.509 ± 0.004\n"
     ]
    }
   ],
   "source": [
    "# Let's see what type of impact a post with a popular post will make \n",
    "y = LabelEncoder().fit_transform(df['Comments Magnitude'])\n",
    "X = pd.get_dummies(df.drop(['Comments Magnitude', 'Black_P', 'Title_Length', 'Target', 'Gif', 'Char', 'Guns', 'Score', 'Domain','Time_Hour', 'Title', 'Number of Comments', 'Subreddit'], axis=1))\n",
    "cv = StratifiedKFold(n_splits=3, shuffle=True, random_state=41)\n",
    "dt = RandomForestClassifier()\n",
    "s = cross_val_score(dt, X, y, cv=cv, n_jobs=-1)\n",
    "print(\"{} Score:\\t{:0.3} ± {:0.3}\".format(\"Random Forest\", s.mean().round(3), s.std().round(3)))"
   ]
  },
  {
   "cell_type": "code",
   "execution_count": 287,
   "metadata": {},
   "outputs": [
    {
     "name": "stdout",
     "output_type": "stream",
     "text": [
      "Random Forest Score:\t0.507 ± 0.003\n"
     ]
    }
   ],
   "source": [
    "# Let's see what type of impact a post with a gif will make\n",
    "y = LabelEncoder().fit_transform(df['Comments Magnitude'])\n",
    "X = pd.get_dummies(df.drop(['Comments Magnitude', 'Black_P', 'Title_Length', 'Target', 'Popular', 'Char', 'Guns', 'Score', 'Domain','Time_Hour', 'Title', 'Number of Comments', 'Subreddit'], axis=1))\n",
    "cv = StratifiedKFold(n_splits=3, shuffle=True, random_state=41)\n",
    "dt = RandomForestClassifier()\n",
    "s = cross_val_score(dt, X, y, cv=cv, n_jobs=-1)\n",
    "print(\"{} Score:\\t{:0.3} ± {:0.3}\".format(\"Random Forest\", s.mean().round(3), s.std().round(3)))"
   ]
  },
  {
   "cell_type": "code",
   "execution_count": 288,
   "metadata": {},
   "outputs": [
    {
     "name": "stdout",
     "output_type": "stream",
     "text": [
      "Random Forest Score:\t0.507 ± 0.0\n"
     ]
    }
   ],
   "source": [
    "# What type of impact does character length make?\n",
    "y = LabelEncoder().fit_transform(df['Comments Magnitude'])\n",
    "X = pd.get_dummies(df.drop(['Comments Magnitude', 'Black_P', 'Title_Length', 'Target', 'Popular', 'Gif', 'Guns', 'Score', 'Domain','Time_Hour', 'Title', 'Number of Comments', 'Subreddit'], axis=1))\n",
    "cv = StratifiedKFold(n_splits=3, shuffle=True, random_state=41)\n",
    "dt = RandomForestClassifier()\n",
    "s = cross_val_score(dt, X, y, cv=cv, n_jobs=-1)\n",
    "print(\"{} Score:\\t{:0.3} ± {:0.3}\".format(\"Random Forest\", s.mean().round(3), s.std().round(3)))"
   ]
  },
  {
   "cell_type": "markdown",
   "metadata": {},
   "source": [
    "All of our accuracy scores were above 50%, but they didn't perform as well as we'd like them to. Now, let's perform a cross-validation of our data."
   ]
  },
  {
   "cell_type": "code",
   "execution_count": 289,
   "metadata": {},
   "outputs": [
    {
     "name": "stdout",
     "output_type": "stream",
     "text": [
      "[1263 1264 1265 ... 2522 2523 2524] [   0    1    2 ... 1260 1261 1262]\n",
      "[   0    1    2 ... 1260 1261 1262] [1263 1264 1265 ... 2522 2523 2524]\n"
     ]
    }
   ],
   "source": [
    "import numpy as np\n",
    "from sklearn.model_selection import KFold\n",
    "X = pd.get_dummies(df.drop(['Comments Magnitude', 'Black_P', 'Title_Length', 'Target', 'Gif', 'Char', 'Guns', 'Score', 'Domain','Time_Hour', 'Title', 'Number of Comments', 'Subreddit'], axis=1))\n",
    "kf = KFold(n_splits=2)\n",
    "for train, test in kf.split(X):\n",
    "    print(\"%s %s\" % (train, test))"
   ]
  },
  {
   "cell_type": "markdown",
   "metadata": {},
   "source": [
    "**Model 2: KNN**"
   ]
  },
  {
   "cell_type": "markdown",
   "metadata": {},
   "source": [
    "The second model we're going to try (to see if it's better than the Random Forest) is KNN."
   ]
  },
  {
   "cell_type": "code",
   "execution_count": 291,
   "metadata": {},
   "outputs": [
    {
     "data": {
      "text/plain": [
       "0.49306930693069306"
      ]
     },
     "execution_count": 291,
     "metadata": {},
     "output_type": "execute_result"
    }
   ],
   "source": [
    "# Let's obtain our baseline accuracy\n",
    "np.mean(y)"
   ]
  },
  {
   "cell_type": "code",
   "execution_count": 292,
   "metadata": {},
   "outputs": [
    {
     "name": "stdout",
     "output_type": "stream",
     "text": [
      "baseline: 0.5069306930693069\n"
     ]
    }
   ],
   "source": [
    "baseline = 1. - np.mean(y)\n",
    "print('baseline:', baseline)"
   ]
  },
  {
   "cell_type": "code",
   "execution_count": 294,
   "metadata": {},
   "outputs": [
    {
     "data": {
      "text/plain": [
       "(0.5065346534653465, 0.0007920792079207928)"
      ]
     },
     "execution_count": 294,
     "metadata": {},
     "output_type": "execute_result"
    }
   ],
   "source": [
    "# Our previous model where we used the 'Popular' feature gave us a score of 50.9%. Let's see if we can improve on it.\n",
    "from sklearn.model_selection import cross_val_score\n",
    "from sklearn.neighbors import KNeighborsClassifier\n",
    "Xs = pd.get_dummies(df.drop(['Comments Magnitude', 'Black_P', 'Title_Length', 'Target', 'Popular', 'Char', 'Guns', 'Score', 'Domain','Time_Hour', 'Title', 'Number of Comments', 'Subreddit'], axis=1))\n",
    "knn5 = KNeighborsClassifier(n_neighbors=5, weights='uniform')\n",
    "\n",
    "scores = cross_val_score(knn5, Xs, y, cv=5)\n",
    "np.mean(scores), np.std(scores)"
   ]
  },
  {
   "cell_type": "markdown",
   "metadata": {},
   "source": [
    "From our score above, we obtain an accuracy of 50.6%, slightly worse than our previous score. This shows that the Random Forest model works better in this case."
   ]
  },
  {
   "cell_type": "code",
   "execution_count": null,
   "metadata": {
    "collapsed": true
   },
   "outputs": [],
   "source": []
  }
 ],
 "metadata": {
  "kernelspec": {
   "display_name": "Python 3",
   "language": "python",
   "name": "python3"
  },
  "language_info": {
   "codemirror_mode": {
    "name": "ipython",
    "version": 3
   },
   "file_extension": ".py",
   "mimetype": "text/x-python",
   "name": "python",
   "nbconvert_exporter": "python",
   "pygments_lexer": "ipython3",
   "version": "3.6.4"
  }
 },
 "nbformat": 4,
 "nbformat_minor": 2
}
